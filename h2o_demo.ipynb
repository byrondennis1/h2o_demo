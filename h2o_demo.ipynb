{
 "cells": [
  {
   "cell_type": "markdown",
   "metadata": {},
   "source": [
    "# H2O Demo"
   ]
  },
  {
   "cell_type": "markdown",
   "metadata": {},
   "source": [
    "### Imports"
   ]
  },
  {
   "cell_type": "code",
   "execution_count": 1,
   "metadata": {},
   "outputs": [],
   "source": [
    "import pandas as pd\n",
    "import numpy as np\n",
    "import matplotlib.pyplot as plt\n",
    "import os"
   ]
  },
  {
   "cell_type": "markdown",
   "metadata": {},
   "source": [
    "## About the dataset"
   ]
  },
  {
   "cell_type": "markdown",
   "metadata": {},
   "source": [
    "**Online Shopper's Intention** from kaggle.\n",
    "\n",
    "https://www.kaggle.com/roshansharma/online-shoppers-intention/downloads/online-shoppers-intention.zip/1 \n",
    "\n",
    "We want to predict whether or not an online user will make a purchase."
   ]
  },
  {
   "cell_type": "markdown",
   "metadata": {},
   "source": [
    "# Load and Review Data"
   ]
  },
  {
   "cell_type": "code",
   "execution_count": 2,
   "metadata": {},
   "outputs": [
    {
     "name": "stdout",
     "output_type": "stream",
     "text": [
      "(12330, 18)\n"
     ]
    },
    {
     "data": {
      "text/html": [
       "<div>\n",
       "<style scoped>\n",
       "    .dataframe tbody tr th:only-of-type {\n",
       "        vertical-align: middle;\n",
       "    }\n",
       "\n",
       "    .dataframe tbody tr th {\n",
       "        vertical-align: top;\n",
       "    }\n",
       "\n",
       "    .dataframe thead th {\n",
       "        text-align: right;\n",
       "    }\n",
       "</style>\n",
       "<table border=\"1\" class=\"dataframe\">\n",
       "  <thead>\n",
       "    <tr style=\"text-align: right;\">\n",
       "      <th></th>\n",
       "      <th>Administrative</th>\n",
       "      <th>Administrative_Duration</th>\n",
       "      <th>Informational</th>\n",
       "      <th>Informational_Duration</th>\n",
       "      <th>ProductRelated</th>\n",
       "      <th>ProductRelated_Duration</th>\n",
       "      <th>BounceRates</th>\n",
       "      <th>ExitRates</th>\n",
       "      <th>PageValues</th>\n",
       "      <th>SpecialDay</th>\n",
       "      <th>Month</th>\n",
       "      <th>OperatingSystems</th>\n",
       "      <th>Browser</th>\n",
       "      <th>Region</th>\n",
       "      <th>TrafficType</th>\n",
       "      <th>VisitorType</th>\n",
       "      <th>Weekend</th>\n",
       "      <th>Revenue</th>\n",
       "    </tr>\n",
       "  </thead>\n",
       "  <tbody>\n",
       "    <tr>\n",
       "      <th>0</th>\n",
       "      <td>0.0</td>\n",
       "      <td>0.0</td>\n",
       "      <td>0.0</td>\n",
       "      <td>0.0</td>\n",
       "      <td>1.0</td>\n",
       "      <td>0.000000</td>\n",
       "      <td>0.20</td>\n",
       "      <td>0.20</td>\n",
       "      <td>0.0</td>\n",
       "      <td>0.0</td>\n",
       "      <td>Feb</td>\n",
       "      <td>1</td>\n",
       "      <td>1</td>\n",
       "      <td>1</td>\n",
       "      <td>1</td>\n",
       "      <td>Returning_Visitor</td>\n",
       "      <td>False</td>\n",
       "      <td>False</td>\n",
       "    </tr>\n",
       "    <tr>\n",
       "      <th>1</th>\n",
       "      <td>0.0</td>\n",
       "      <td>0.0</td>\n",
       "      <td>0.0</td>\n",
       "      <td>0.0</td>\n",
       "      <td>2.0</td>\n",
       "      <td>64.000000</td>\n",
       "      <td>0.00</td>\n",
       "      <td>0.10</td>\n",
       "      <td>0.0</td>\n",
       "      <td>0.0</td>\n",
       "      <td>Feb</td>\n",
       "      <td>2</td>\n",
       "      <td>2</td>\n",
       "      <td>1</td>\n",
       "      <td>2</td>\n",
       "      <td>Returning_Visitor</td>\n",
       "      <td>False</td>\n",
       "      <td>False</td>\n",
       "    </tr>\n",
       "    <tr>\n",
       "      <th>2</th>\n",
       "      <td>0.0</td>\n",
       "      <td>-1.0</td>\n",
       "      <td>0.0</td>\n",
       "      <td>-1.0</td>\n",
       "      <td>1.0</td>\n",
       "      <td>-1.000000</td>\n",
       "      <td>0.20</td>\n",
       "      <td>0.20</td>\n",
       "      <td>0.0</td>\n",
       "      <td>0.0</td>\n",
       "      <td>Feb</td>\n",
       "      <td>4</td>\n",
       "      <td>1</td>\n",
       "      <td>9</td>\n",
       "      <td>3</td>\n",
       "      <td>Returning_Visitor</td>\n",
       "      <td>False</td>\n",
       "      <td>False</td>\n",
       "    </tr>\n",
       "    <tr>\n",
       "      <th>3</th>\n",
       "      <td>0.0</td>\n",
       "      <td>0.0</td>\n",
       "      <td>0.0</td>\n",
       "      <td>0.0</td>\n",
       "      <td>2.0</td>\n",
       "      <td>2.666667</td>\n",
       "      <td>0.05</td>\n",
       "      <td>0.14</td>\n",
       "      <td>0.0</td>\n",
       "      <td>0.0</td>\n",
       "      <td>Feb</td>\n",
       "      <td>3</td>\n",
       "      <td>2</td>\n",
       "      <td>2</td>\n",
       "      <td>4</td>\n",
       "      <td>Returning_Visitor</td>\n",
       "      <td>False</td>\n",
       "      <td>False</td>\n",
       "    </tr>\n",
       "    <tr>\n",
       "      <th>4</th>\n",
       "      <td>0.0</td>\n",
       "      <td>0.0</td>\n",
       "      <td>0.0</td>\n",
       "      <td>0.0</td>\n",
       "      <td>10.0</td>\n",
       "      <td>627.500000</td>\n",
       "      <td>0.02</td>\n",
       "      <td>0.05</td>\n",
       "      <td>0.0</td>\n",
       "      <td>0.0</td>\n",
       "      <td>Feb</td>\n",
       "      <td>3</td>\n",
       "      <td>3</td>\n",
       "      <td>1</td>\n",
       "      <td>4</td>\n",
       "      <td>Returning_Visitor</td>\n",
       "      <td>True</td>\n",
       "      <td>False</td>\n",
       "    </tr>\n",
       "  </tbody>\n",
       "</table>\n",
       "</div>"
      ],
      "text/plain": [
       "   Administrative  Administrative_Duration  Informational  \\\n",
       "0             0.0                      0.0            0.0   \n",
       "1             0.0                      0.0            0.0   \n",
       "2             0.0                     -1.0            0.0   \n",
       "3             0.0                      0.0            0.0   \n",
       "4             0.0                      0.0            0.0   \n",
       "\n",
       "   Informational_Duration  ProductRelated  ProductRelated_Duration  \\\n",
       "0                     0.0             1.0                 0.000000   \n",
       "1                     0.0             2.0                64.000000   \n",
       "2                    -1.0             1.0                -1.000000   \n",
       "3                     0.0             2.0                 2.666667   \n",
       "4                     0.0            10.0               627.500000   \n",
       "\n",
       "   BounceRates  ExitRates  PageValues  SpecialDay Month  OperatingSystems  \\\n",
       "0         0.20       0.20         0.0         0.0   Feb                 1   \n",
       "1         0.00       0.10         0.0         0.0   Feb                 2   \n",
       "2         0.20       0.20         0.0         0.0   Feb                 4   \n",
       "3         0.05       0.14         0.0         0.0   Feb                 3   \n",
       "4         0.02       0.05         0.0         0.0   Feb                 3   \n",
       "\n",
       "   Browser  Region  TrafficType        VisitorType  Weekend  Revenue  \n",
       "0        1       1            1  Returning_Visitor    False    False  \n",
       "1        2       1            2  Returning_Visitor    False    False  \n",
       "2        1       9            3  Returning_Visitor    False    False  \n",
       "3        2       2            4  Returning_Visitor    False    False  \n",
       "4        3       1            4  Returning_Visitor     True    False  "
      ]
     },
     "execution_count": 2,
     "metadata": {},
     "output_type": "execute_result"
    }
   ],
   "source": [
    "#import file\n",
    "path = os.getcwd()\n",
    "df = pd.read_csv(path + '/online-shoppers-intention/online_shoppers_intention.csv')\n",
    "print(df.shape)\n",
    "df.head()"
   ]
  },
  {
   "cell_type": "markdown",
   "metadata": {},
   "source": [
    "# H2O"
   ]
  },
  {
   "cell_type": "markdown",
   "metadata": {},
   "source": [
    "### Start Cluster"
   ]
  },
  {
   "cell_type": "markdown",
   "metadata": {},
   "source": [
    "**H2O is designed to run on a desktop or scale with a cluster (Spark in our case).**"
   ]
  },
  {
   "cell_type": "code",
   "execution_count": 3,
   "metadata": {},
   "outputs": [
    {
     "name": "stdout",
     "output_type": "stream",
     "text": [
      "Checking whether there is an H2O instance running at http://localhost:54321 ..... not found.\n",
      "Attempting to start a local H2O server...\n",
      "; Java HotSpot(TM) 64-Bit Server VM (build 25.212-b10, mixed mode)\n",
      "  Starting server from C:\\sigdev\\anaconda\\lib\\site-packages\\h2o\\backend\\bin\\h2o.jar\n",
      "  Ice root: C:\\Users\\DT225877\\AppData\\Local\\Temp\\tmpll1o3dtv\n",
      "  JVM stdout: C:\\Users\\DT225877\\AppData\\Local\\Temp\\tmpll1o3dtv\\h2o_dt225877_started_from_python.out\n",
      "  JVM stderr: C:\\Users\\DT225877\\AppData\\Local\\Temp\\tmpll1o3dtv\\h2o_dt225877_started_from_python.err\n",
      "  Server is running at http://127.0.0.1:54321\n",
      "Connecting to H2O server at http://127.0.0.1:54321 ... successful.\n"
     ]
    },
    {
     "data": {
      "text/html": [
       "<div style=\"overflow:auto\"><table style=\"width:50%\"><tr><td>H2O cluster uptime:</td>\n",
       "<td>02 secs</td></tr>\n",
       "<tr><td>H2O cluster timezone:</td>\n",
       "<td>America/Chicago</td></tr>\n",
       "<tr><td>H2O data parsing timezone:</td>\n",
       "<td>UTC</td></tr>\n",
       "<tr><td>H2O cluster version:</td>\n",
       "<td>3.26.0.2</td></tr>\n",
       "<tr><td>H2O cluster version age:</td>\n",
       "<td>2 months and 10 days </td></tr>\n",
       "<tr><td>H2O cluster name:</td>\n",
       "<td>H2O_from_python_dt225877_4wa8z0</td></tr>\n",
       "<tr><td>H2O cluster total nodes:</td>\n",
       "<td>1</td></tr>\n",
       "<tr><td>H2O cluster free memory:</td>\n",
       "<td>3.511 Gb</td></tr>\n",
       "<tr><td>H2O cluster total cores:</td>\n",
       "<td>4</td></tr>\n",
       "<tr><td>H2O cluster allowed cores:</td>\n",
       "<td>4</td></tr>\n",
       "<tr><td>H2O cluster status:</td>\n",
       "<td>accepting new members, healthy</td></tr>\n",
       "<tr><td>H2O connection url:</td>\n",
       "<td>http://127.0.0.1:54321</td></tr>\n",
       "<tr><td>H2O connection proxy:</td>\n",
       "<td>None</td></tr>\n",
       "<tr><td>H2O internal security:</td>\n",
       "<td>False</td></tr>\n",
       "<tr><td>H2O API Extensions:</td>\n",
       "<td>Amazon S3, Algos, AutoML, Core V3, Core V4</td></tr>\n",
       "<tr><td>Python version:</td>\n",
       "<td>3.7.3 final</td></tr></table></div>"
      ],
      "text/plain": [
       "--------------------------  ------------------------------------------\n",
       "H2O cluster uptime:         02 secs\n",
       "H2O cluster timezone:       America/Chicago\n",
       "H2O data parsing timezone:  UTC\n",
       "H2O cluster version:        3.26.0.2\n",
       "H2O cluster version age:    2 months and 10 days\n",
       "H2O cluster name:           H2O_from_python_dt225877_4wa8z0\n",
       "H2O cluster total nodes:    1\n",
       "H2O cluster free memory:    3.511 Gb\n",
       "H2O cluster total cores:    4\n",
       "H2O cluster allowed cores:  4\n",
       "H2O cluster status:         accepting new members, healthy\n",
       "H2O connection url:         http://127.0.0.1:54321\n",
       "H2O connection proxy:\n",
       "H2O internal security:      False\n",
       "H2O API Extensions:         Amazon S3, Algos, AutoML, Core V3, Core V4\n",
       "Python version:             3.7.3 final\n",
       "--------------------------  ------------------------------------------"
      ]
     },
     "metadata": {},
     "output_type": "display_data"
    }
   ],
   "source": [
    "import h2o\n",
    "h2o.init()"
   ]
  },
  {
   "cell_type": "markdown",
   "metadata": {},
   "source": [
    "### Read data into H2O dataframe and prep for training"
   ]
  },
  {
   "cell_type": "markdown",
   "metadata": {},
   "source": [
    "**H2O has its own DataFrame format that stores files more efficiently than pandas (better in memory performance).  Dataframes can be created directly from files, Pandas DataFrames, or other objects.**"
   ]
  },
  {
   "cell_type": "code",
   "execution_count": 4,
   "metadata": {},
   "outputs": [
    {
     "name": "stdout",
     "output_type": "stream",
     "text": [
      "Parse progress: |█████████████████████████████████████████████████████████| 100%\n"
     ]
    }
   ],
   "source": [
    "df = h2o.H2OFrame(df)"
   ]
  },
  {
   "cell_type": "markdown",
   "metadata": {},
   "source": [
    "**For classification, H2O Expects the target variable to be an \"enum\" which is the equivalent to a Factor in R.**"
   ]
  },
  {
   "cell_type": "code",
   "execution_count": 5,
   "metadata": {},
   "outputs": [
    {
     "data": {
      "text/plain": [
       "{'Revenue': 'enum'}"
      ]
     },
     "execution_count": 5,
     "metadata": {},
     "output_type": "execute_result"
    }
   ],
   "source": [
    "df['Revenue'].types\n",
    "\n",
    "#convert revenue column to factor for classification models\n",
    "#df['Revenue'] = df['Revenue'].asfactor()"
   ]
  },
  {
   "cell_type": "markdown",
   "metadata": {},
   "source": [
    "**Create training and validation dataframes.**"
   ]
  },
  {
   "cell_type": "code",
   "execution_count": 6,
   "metadata": {},
   "outputs": [
    {
     "name": "stdout",
     "output_type": "stream",
     "text": [
      "train:  9909\n",
      "test:  1194\n",
      "valid:  1227\n"
     ]
    }
   ],
   "source": [
    "train, test, valid = df.split_frame(ratios=[.80,.10], seed=123)\n",
    "print('train: ', len(train))\n",
    "print('test: ', len(test))\n",
    "print('valid: ', len(valid))"
   ]
  },
  {
   "cell_type": "markdown",
   "metadata": {},
   "source": [
    "## Random Forest Model"
   ]
  },
  {
   "cell_type": "markdown",
   "metadata": {},
   "source": [
    "**H2O models have the leading methodologies available.**\n",
    "- parameter for defining how to handle categoricals (one hot encode, enum, etc)\n",
    "- categorical binning\n",
    "- row sampling\n",
    "- different variations of column sampling\n",
    "- parameter to add crossvalidation\n",
    "- parameter to include validation set for evaluation\n",
    "- balance classes / upsampling / downsampling\n",
    "- automatically ignores columns that only have 1 unique value (faster training).\n",
    "\n",
    "http://docs.h2o.ai/h2o/latest-stable/h2o-docs/data-science/drf.html"
   ]
  },
  {
   "cell_type": "code",
   "execution_count": 24,
   "metadata": {},
   "outputs": [
    {
     "name": "stdout",
     "output_type": "stream",
     "text": [
      "drf Model Build progress: |███████████████████████████████████████████████| 100%\n",
      "DRF_model_python_1570460720215_1701\n"
     ]
    }
   ],
   "source": [
    "rf = h2o.estimators.H2ORandomForestEstimator(ntrees=15, \n",
    "                                             max_depth=5, \n",
    "                                             #min_rows=5, \n",
    "                                             nbins_cats=1024,\n",
    "                                             mtries=5, \n",
    "                                             seed=123)\n",
    "rf.train(y='Revenue', training_frame=train, validation_frame=valid)\n",
    "print(rf.model_id)"
   ]
  },
  {
   "cell_type": "markdown",
   "metadata": {},
   "source": [
    "## Model Evaluation"
   ]
  },
  {
   "cell_type": "markdown",
   "metadata": {},
   "source": [
    "**Simple commands to veiw key metrics and visualize**"
   ]
  },
  {
   "cell_type": "markdown",
   "metadata": {},
   "source": [
    "You can review metrics for the training set or the validation set"
   ]
  },
  {
   "cell_type": "code",
   "execution_count": 25,
   "metadata": {},
   "outputs": [
    {
     "data": {
      "image/png": "[encoded data removed]",
      "text/plain": [
       "<Figure size 432x288 with 1 Axes>"
      ]
     },
     "metadata": {
      "needs_background": "light"
     },
     "output_type": "display_data"
    }
   ],
   "source": [
    "rf.model_performance(valid=True).plot()"
   ]
  },
  {
   "cell_type": "code",
   "execution_count": 26,
   "metadata": {},
   "outputs": [
    {
     "name": "stdout",
     "output_type": "stream",
     "text": [
      "\n",
      "ModelMetricsBinomial: drf\n",
      "** Reported on validation data. **\n",
      "\n",
      "MSE: 0.07639320486828928\n",
      "RMSE: 0.27639320698651276\n",
      "LogLoss: 0.2574437685641607\n",
      "Mean Per-Class Error: 0.1450709074759733\n",
      "AUC: 0.9177453318829154\n",
      "pr_auc: 0.7376085556978321\n",
      "Gini: 0.8354906637658308\n",
      "Confusion Matrix (Act/Pred) for max f1 @ threshold = 0.31353547374407453: \n"
     ]
    },
    {
     "data": {
      "text/html": [
       "<div style=\"overflow:auto\"><table style=\"width:50%\"><tr><td><b></b></td>\n",
       "<td><b>False</b></td>\n",
       "<td><b>True</b></td>\n",
       "<td><b>Error</b></td>\n",
       "<td><b>Rate</b></td></tr>\n",
       "<tr><td>False</td>\n",
       "<td>950.0</td>\n",
       "<td>83.0</td>\n",
       "<td>0.0803</td>\n",
       "<td> (83.0/1033.0)</td></tr>\n",
       "<tr><td>True</td>\n",
       "<td>47.0</td>\n",
       "<td>147.0</td>\n",
       "<td>0.2423</td>\n",
       "<td> (47.0/194.0)</td></tr>\n",
       "<tr><td>Total</td>\n",
       "<td>997.0</td>\n",
       "<td>230.0</td>\n",
       "<td>0.1059</td>\n",
       "<td> (130.0/1227.0)</td></tr></table></div>"
      ],
      "text/plain": [
       "       False    True    Error    Rate\n",
       "-----  -------  ------  -------  --------------\n",
       "False  950      83      0.0803   (83.0/1033.0)\n",
       "True   47       147     0.2423   (47.0/194.0)\n",
       "Total  997      230     0.1059   (130.0/1227.0)"
      ]
     },
     "metadata": {},
     "output_type": "display_data"
    },
    {
     "name": "stdout",
     "output_type": "stream",
     "text": [
      "Maximum Metrics: Maximum metrics at their respective thresholds\n",
      "\n"
     ]
    },
    {
     "data": {
      "text/html": [
       "<div style=\"overflow:auto\"><table style=\"width:50%\"><tr><td><b>metric</b></td>\n",
       "<td><b>threshold</b></td>\n",
       "<td><b>value</b></td>\n",
       "<td><b>idx</b></td></tr>\n",
       "<tr><td>max f1</td>\n",
       "<td>0.3135355</td>\n",
       "<td>0.6933962</td>\n",
       "<td>162.0</td></tr>\n",
       "<tr><td>max f2</td>\n",
       "<td>0.1907197</td>\n",
       "<td>0.7587182</td>\n",
       "<td>201.0</td></tr>\n",
       "<tr><td>max f0point5</td>\n",
       "<td>0.5039574</td>\n",
       "<td>0.7178218</td>\n",
       "<td>75.0</td></tr>\n",
       "<tr><td>max accuracy</td>\n",
       "<td>0.4322719</td>\n",
       "<td>0.9013855</td>\n",
       "<td>109.0</td></tr>\n",
       "<tr><td>max precision</td>\n",
       "<td>0.8016990</td>\n",
       "<td>1.0</td>\n",
       "<td>0.0</td></tr>\n",
       "<tr><td>max recall</td>\n",
       "<td>0.0273802</td>\n",
       "<td>1.0</td>\n",
       "<td>366.0</td></tr>\n",
       "<tr><td>max specificity</td>\n",
       "<td>0.8016990</td>\n",
       "<td>1.0</td>\n",
       "<td>0.0</td></tr>\n",
       "<tr><td>max absolute_mcc</td>\n",
       "<td>0.3135355</td>\n",
       "<td>0.6332484</td>\n",
       "<td>162.0</td></tr>\n",
       "<tr><td>max min_per_class_accuracy</td>\n",
       "<td>0.1400636</td>\n",
       "<td>0.8412391</td>\n",
       "<td>225.0</td></tr>\n",
       "<tr><td>max mean_per_class_accuracy</td>\n",
       "<td>0.1907197</td>\n",
       "<td>0.8549291</td>\n",
       "<td>201.0</td></tr></table></div>"
      ],
      "text/plain": [
       "metric                       threshold    value     idx\n",
       "---------------------------  -----------  --------  -----\n",
       "max f1                       0.313535     0.693396  162\n",
       "max f2                       0.19072      0.758718  201\n",
       "max f0point5                 0.503957     0.717822  75\n",
       "max accuracy                 0.432272     0.901385  109\n",
       "max precision                0.801699     1         0\n",
       "max recall                   0.0273802    1         366\n",
       "max specificity              0.801699     1         0\n",
       "max absolute_mcc             0.313535     0.633248  162\n",
       "max min_per_class_accuracy   0.140064     0.841239  225\n",
       "max mean_per_class_accuracy  0.19072      0.854929  201"
      ]
     },
     "metadata": {},
     "output_type": "display_data"
    },
    {
     "name": "stdout",
     "output_type": "stream",
     "text": [
      "Gains/Lift Table: Avg response rate: 15.81 %, avg score: 15.29 %\n",
      "\n"
     ]
    },
    {
     "data": {
      "text/html": [
       "<div style=\"overflow:auto\"><table style=\"width:50%\"><tr><td><b></b></td>\n",
       "<td><b>group</b></td>\n",
       "<td><b>cumulative_data_fraction</b></td>\n",
       "<td><b>lower_threshold</b></td>\n",
       "<td><b>lift</b></td>\n",
       "<td><b>cumulative_lift</b></td>\n",
       "<td><b>response_rate</b></td>\n",
       "<td><b>score</b></td>\n",
       "<td><b>cumulative_response_rate</b></td>\n",
       "<td><b>cumulative_score</b></td>\n",
       "<td><b>capture_rate</b></td>\n",
       "<td><b>cumulative_capture_rate</b></td>\n",
       "<td><b>gain</b></td>\n",
       "<td><b>cumulative_gain</b></td></tr>\n",
       "<tr><td></td>\n",
       "<td>1</td>\n",
       "<td>0.0105949</td>\n",
       "<td>0.7188800</td>\n",
       "<td>6.3247423</td>\n",
       "<td>6.3247423</td>\n",
       "<td>1.0</td>\n",
       "<td>0.7530068</td>\n",
       "<td>1.0</td>\n",
       "<td>0.7530068</td>\n",
       "<td>0.0670103</td>\n",
       "<td>0.0670103</td>\n",
       "<td>532.4742268</td>\n",
       "<td>532.4742268</td></tr>\n",
       "<tr><td></td>\n",
       "<td>2</td>\n",
       "<td>0.0203749</td>\n",
       "<td>0.6640556</td>\n",
       "<td>5.7976804</td>\n",
       "<td>6.0717526</td>\n",
       "<td>0.9166667</td>\n",
       "<td>0.6987653</td>\n",
       "<td>0.96</td>\n",
       "<td>0.7269709</td>\n",
       "<td>0.0567010</td>\n",
       "<td>0.1237113</td>\n",
       "<td>479.7680412</td>\n",
       "<td>507.1752577</td></tr>\n",
       "<tr><td></td>\n",
       "<td>3</td>\n",
       "<td>0.0301548</td>\n",
       "<td>0.6323587</td>\n",
       "<td>6.3247423</td>\n",
       "<td>6.1538033</td>\n",
       "<td>1.0</td>\n",
       "<td>0.6494469</td>\n",
       "<td>0.9729730</td>\n",
       "<td>0.7018279</td>\n",
       "<td>0.0618557</td>\n",
       "<td>0.1855670</td>\n",
       "<td>532.4742268</td>\n",
       "<td>515.3803288</td></tr>\n",
       "<tr><td></td>\n",
       "<td>4</td>\n",
       "<td>0.0407498</td>\n",
       "<td>0.5874839</td>\n",
       "<td>5.8382236</td>\n",
       "<td>6.0717526</td>\n",
       "<td>0.9230769</td>\n",
       "<td>0.6099863</td>\n",
       "<td>0.96</td>\n",
       "<td>0.6779491</td>\n",
       "<td>0.0618557</td>\n",
       "<td>0.2474227</td>\n",
       "<td>483.8223632</td>\n",
       "<td>507.1752577</td></tr>\n",
       "<tr><td></td>\n",
       "<td>5</td>\n",
       "<td>0.0505297</td>\n",
       "<td>0.5624733</td>\n",
       "<td>4.2164948</td>\n",
       "<td>5.7126704</td>\n",
       "<td>0.6666667</td>\n",
       "<td>0.5764921</td>\n",
       "<td>0.9032258</td>\n",
       "<td>0.6583123</td>\n",
       "<td>0.0412371</td>\n",
       "<td>0.2886598</td>\n",
       "<td>321.6494845</td>\n",
       "<td>471.2670436</td></tr>\n",
       "<tr><td></td>\n",
       "<td>6</td>\n",
       "<td>0.1002445</td>\n",
       "<td>0.4699325</td>\n",
       "<td>4.0436877</td>\n",
       "<td>4.8849635</td>\n",
       "<td>0.6393443</td>\n",
       "<td>0.5182174</td>\n",
       "<td>0.7723577</td>\n",
       "<td>0.5888343</td>\n",
       "<td>0.2010309</td>\n",
       "<td>0.4896907</td>\n",
       "<td>304.3687680</td>\n",
       "<td>388.4963540</td></tr>\n",
       "<tr><td></td>\n",
       "<td>7</td>\n",
       "<td>0.1499593</td>\n",
       "<td>0.3891474</td>\n",
       "<td>3.0068447</td>\n",
       "<td>4.2623263</td>\n",
       "<td>0.4754098</td>\n",
       "<td>0.4314939</td>\n",
       "<td>0.6739130</td>\n",
       "<td>0.5366726</td>\n",
       "<td>0.1494845</td>\n",
       "<td>0.6391753</td>\n",
       "<td>200.6844685</td>\n",
       "<td>326.2326311</td></tr>\n",
       "<tr><td></td>\n",
       "<td>8</td>\n",
       "<td>0.2004890</td>\n",
       "<td>0.2806882</td>\n",
       "<td>2.6523113</td>\n",
       "<td>3.8565502</td>\n",
       "<td>0.4193548</td>\n",
       "<td>0.3401319</td>\n",
       "<td>0.6097561</td>\n",
       "<td>0.4871379</td>\n",
       "<td>0.1340206</td>\n",
       "<td>0.7731959</td>\n",
       "<td>165.2311274</td>\n",
       "<td>285.6550163</td></tr>\n",
       "<tr><td></td>\n",
       "<td>9</td>\n",
       "<td>0.2999185</td>\n",
       "<td>0.1169128</td>\n",
       "<td>0.9850008</td>\n",
       "<td>2.9045691</td>\n",
       "<td>0.1557377</td>\n",
       "<td>0.1712475</td>\n",
       "<td>0.4592391</td>\n",
       "<td>0.3824134</td>\n",
       "<td>0.0979381</td>\n",
       "<td>0.8711340</td>\n",
       "<td>-1.4999155</td>\n",
       "<td>190.4569139</td></tr>\n",
       "<tr><td></td>\n",
       "<td>10</td>\n",
       "<td>0.4001630</td>\n",
       "<td>0.0927503</td>\n",
       "<td>0.4627860</td>\n",
       "<td>2.2928801</td>\n",
       "<td>0.0731707</td>\n",
       "<td>0.1022653</td>\n",
       "<td>0.3625255</td>\n",
       "<td>0.3122337</td>\n",
       "<td>0.0463918</td>\n",
       "<td>0.9175258</td>\n",
       "<td>-53.7213980</td>\n",
       "<td>129.2880089</td></tr>\n",
       "<tr><td></td>\n",
       "<td>11</td>\n",
       "<td>0.5004075</td>\n",
       "<td>0.0798895</td>\n",
       "<td>0.3599447</td>\n",
       "<td>1.9056634</td>\n",
       "<td>0.0569106</td>\n",
       "<td>0.0860195</td>\n",
       "<td>0.3013029</td>\n",
       "<td>0.2669172</td>\n",
       "<td>0.0360825</td>\n",
       "<td>0.9536082</td>\n",
       "<td>-64.0055318</td>\n",
       "<td>90.5663387</td></tr>\n",
       "<tr><td></td>\n",
       "<td>12</td>\n",
       "<td>0.5998370</td>\n",
       "<td>0.0647833</td>\n",
       "<td>0.2592107</td>\n",
       "<td>1.6327460</td>\n",
       "<td>0.0409836</td>\n",
       "<td>0.0733014</td>\n",
       "<td>0.2581522</td>\n",
       "<td>0.2348233</td>\n",
       "<td>0.0257732</td>\n",
       "<td>0.9793814</td>\n",
       "<td>-74.0789251</td>\n",
       "<td>63.2745966</td></tr>\n",
       "<tr><td></td>\n",
       "<td>13</td>\n",
       "<td>0.7000815</td>\n",
       "<td>0.0507531</td>\n",
       "<td>0.0514207</td>\n",
       "<td>1.4063164</td>\n",
       "<td>0.0081301</td>\n",
       "<td>0.0580552</td>\n",
       "<td>0.2223516</td>\n",
       "<td>0.2095119</td>\n",
       "<td>0.0051546</td>\n",
       "<td>0.9845361</td>\n",
       "<td>-94.8579331</td>\n",
       "<td>40.6316383</td></tr>\n",
       "<tr><td></td>\n",
       "<td>14</td>\n",
       "<td>0.7995110</td>\n",
       "<td>0.0242304</td>\n",
       "<td>0.1555264</td>\n",
       "<td>1.2507645</td>\n",
       "<td>0.0245902</td>\n",
       "<td>0.0387541</td>\n",
       "<td>0.1977574</td>\n",
       "<td>0.1882760</td>\n",
       "<td>0.0154639</td>\n",
       "<td>1.0</td>\n",
       "<td>-84.4473551</td>\n",
       "<td>25.0764526</td></tr>\n",
       "<tr><td></td>\n",
       "<td>15</td>\n",
       "<td>0.9005705</td>\n",
       "<td>0.0103472</td>\n",
       "<td>0.0</td>\n",
       "<td>1.1104072</td>\n",
       "<td>0.0</td>\n",
       "<td>0.0166755</td>\n",
       "<td>0.1755656</td>\n",
       "<td>0.1690194</td>\n",
       "<td>0.0</td>\n",
       "<td>1.0</td>\n",
       "<td>-100.0</td>\n",
       "<td>11.0407240</td></tr>\n",
       "<tr><td></td>\n",
       "<td>16</td>\n",
       "<td>1.0</td>\n",
       "<td>0.0052769</td>\n",
       "<td>0.0</td>\n",
       "<td>1.0</td>\n",
       "<td>0.0</td>\n",
       "<td>0.0068502</td>\n",
       "<td>0.1581092</td>\n",
       "<td>0.1528950</td>\n",
       "<td>0.0</td>\n",
       "<td>1.0</td>\n",
       "<td>-100.0</td>\n",
       "<td>0.0</td></tr></table></div>"
      ],
      "text/plain": [
       "    group    cumulative_data_fraction    lower_threshold    lift       cumulative_lift    response_rate    score       cumulative_response_rate    cumulative_score    capture_rate    cumulative_capture_rate    gain      cumulative_gain\n",
       "--  -------  --------------------------  -----------------  ---------  -----------------  ---------------  ----------  --------------------------  ------------------  --------------  -------------------------  --------  -----------------\n",
       "    1        0.0105949                   0.71888            6.32474    6.32474            1                0.753007    1                           0.753007            0.0670103       0.0670103                  532.474   532.474\n",
       "    2        0.0203749                   0.664056           5.79768    6.07175            0.916667         0.698765    0.96                        0.726971            0.056701        0.123711                   479.768   507.175\n",
       "    3        0.0301548                   0.632359           6.32474    6.1538             1                0.649447    0.972973                    0.701828            0.0618557       0.185567                   532.474   515.38\n",
       "    4        0.0407498                   0.587484           5.83822    6.07175            0.923077         0.609986    0.96                        0.677949            0.0618557       0.247423                   483.822   507.175\n",
       "    5        0.0505297                   0.562473           4.21649    5.71267            0.666667         0.576492    0.903226                    0.658312            0.0412371       0.28866                    321.649   471.267\n",
       "    6        0.100244                    0.469932           4.04369    4.88496            0.639344         0.518217    0.772358                    0.588834            0.201031        0.489691                   304.369   388.496\n",
       "    7        0.149959                    0.389147           3.00684    4.26233            0.47541          0.431494    0.673913                    0.536673            0.149485        0.639175                   200.684   326.233\n",
       "    8        0.200489                    0.280688           2.65231    3.85655            0.419355         0.340132    0.609756                    0.487138            0.134021        0.773196                   165.231   285.655\n",
       "    9        0.299919                    0.116913           0.985001   2.90457            0.155738         0.171248    0.459239                    0.382413            0.0979381       0.871134                   -1.49992  190.457\n",
       "    10       0.400163                    0.0927503          0.462786   2.29288            0.0731707        0.102265    0.362525                    0.312234            0.0463918       0.917526                   -53.7214  129.288\n",
       "    11       0.500407                    0.0798895          0.359945   1.90566            0.0569106        0.0860195   0.301303                    0.266917            0.0360825       0.953608                   -64.0055  90.5663\n",
       "    12       0.599837                    0.0647833          0.259211   1.63275            0.0409836        0.0733014   0.258152                    0.234823            0.0257732       0.979381                   -74.0789  63.2746\n",
       "    13       0.700081                    0.0507531          0.0514207  1.40632            0.00813008       0.0580552   0.222352                    0.209512            0.00515464      0.984536                   -94.8579  40.6316\n",
       "    14       0.799511                    0.0242304          0.155526   1.25076            0.0245902        0.0387541   0.197757                    0.188276            0.0154639       1                          -84.4474  25.0765\n",
       "    15       0.90057                     0.0103472          0          1.11041            0                0.0166755   0.175566                    0.169019            0               1                          -100      11.0407\n",
       "    16       1                           0.00527687         0          1                  0                0.00685019  0.158109                    0.152895            0               1                          -100      0"
      ]
     },
     "metadata": {},
     "output_type": "display_data"
    },
    {
     "name": "stdout",
     "output_type": "stream",
     "text": [
      "\n"
     ]
    },
    {
     "data": {
      "text/plain": []
     },
     "execution_count": 26,
     "metadata": {},
     "output_type": "execute_result"
    }
   ],
   "source": [
    "rf.model_performance(valid=True)"
   ]
  },
  {
   "cell_type": "code",
   "execution_count": 27,
   "metadata": {},
   "outputs": [
    {
     "name": "stdout",
     "output_type": "stream",
     "text": [
      "Confusion Matrix (Act/Pred) for max f1 @ threshold = 0.31353547374407453: \n"
     ]
    },
    {
     "data": {
      "text/html": [
       "<div style=\"overflow:auto\"><table style=\"width:50%\"><tr><td><b></b></td>\n",
       "<td><b>False</b></td>\n",
       "<td><b>True</b></td>\n",
       "<td><b>Error</b></td>\n",
       "<td><b>Rate</b></td></tr>\n",
       "<tr><td>False</td>\n",
       "<td>950.0</td>\n",
       "<td>83.0</td>\n",
       "<td>0.0803</td>\n",
       "<td> (83.0/1033.0)</td></tr>\n",
       "<tr><td>True</td>\n",
       "<td>47.0</td>\n",
       "<td>147.0</td>\n",
       "<td>0.2423</td>\n",
       "<td> (47.0/194.0)</td></tr>\n",
       "<tr><td>Total</td>\n",
       "<td>997.0</td>\n",
       "<td>230.0</td>\n",
       "<td>0.1059</td>\n",
       "<td> (130.0/1227.0)</td></tr></table></div>"
      ],
      "text/plain": [
       "       False    True    Error    Rate\n",
       "-----  -------  ------  -------  --------------\n",
       "False  950      83      0.0803   (83.0/1033.0)\n",
       "True   47       147     0.2423   (47.0/194.0)\n",
       "Total  997      230     0.1059   (130.0/1227.0)"
      ]
     },
     "metadata": {},
     "output_type": "display_data"
    },
    {
     "data": {
      "text/plain": []
     },
     "execution_count": 27,
     "metadata": {},
     "output_type": "execute_result"
    }
   ],
   "source": [
    "rf.confusion_matrix(valid=True)"
   ]
  },
  {
   "cell_type": "code",
   "execution_count": 28,
   "metadata": {},
   "outputs": [
    {
     "data": {
      "image/png": "[encoded data removed]",
      "text/plain": [
       "<Figure size 432x288 with 1 Axes>"
      ]
     },
     "metadata": {
      "needs_background": "light"
     },
     "output_type": "display_data"
    }
   ],
   "source": [
    "rf.plot()"
   ]
  },
  {
   "cell_type": "code",
   "execution_count": 29,
   "metadata": {},
   "outputs": [
    {
     "data": {
      "text/html": [
       "<div>\n",
       "<style scoped>\n",
       "    .dataframe tbody tr th:only-of-type {\n",
       "        vertical-align: middle;\n",
       "    }\n",
       "\n",
       "    .dataframe tbody tr th {\n",
       "        vertical-align: top;\n",
       "    }\n",
       "\n",
       "    .dataframe thead th {\n",
       "        text-align: right;\n",
       "    }\n",
       "</style>\n",
       "<table border=\"1\" class=\"dataframe\">\n",
       "  <thead>\n",
       "    <tr style=\"text-align: right;\">\n",
       "      <th></th>\n",
       "      <th>variable</th>\n",
       "      <th>relative_importance</th>\n",
       "      <th>scaled_importance</th>\n",
       "      <th>percentage</th>\n",
       "    </tr>\n",
       "  </thead>\n",
       "  <tbody>\n",
       "    <tr>\n",
       "      <th>0</th>\n",
       "      <td>PageValues</td>\n",
       "      <td>3709.630615</td>\n",
       "      <td>1.000000</td>\n",
       "      <td>0.713484</td>\n",
       "    </tr>\n",
       "    <tr>\n",
       "      <th>1</th>\n",
       "      <td>ExitRates</td>\n",
       "      <td>504.743408</td>\n",
       "      <td>0.136063</td>\n",
       "      <td>0.097079</td>\n",
       "    </tr>\n",
       "    <tr>\n",
       "      <th>2</th>\n",
       "      <td>Month</td>\n",
       "      <td>202.278076</td>\n",
       "      <td>0.054528</td>\n",
       "      <td>0.038905</td>\n",
       "    </tr>\n",
       "    <tr>\n",
       "      <th>3</th>\n",
       "      <td>Administrative</td>\n",
       "      <td>176.123856</td>\n",
       "      <td>0.047477</td>\n",
       "      <td>0.033874</td>\n",
       "    </tr>\n",
       "    <tr>\n",
       "      <th>4</th>\n",
       "      <td>ProductRelated_Duration</td>\n",
       "      <td>173.583557</td>\n",
       "      <td>0.046793</td>\n",
       "      <td>0.033386</td>\n",
       "    </tr>\n",
       "  </tbody>\n",
       "</table>\n",
       "</div>"
      ],
      "text/plain": [
       "                  variable  relative_importance  scaled_importance  percentage\n",
       "0               PageValues          3709.630615           1.000000    0.713484\n",
       "1                ExitRates           504.743408           0.136063    0.097079\n",
       "2                    Month           202.278076           0.054528    0.038905\n",
       "3           Administrative           176.123856           0.047477    0.033874\n",
       "4  ProductRelated_Duration           173.583557           0.046793    0.033386"
      ]
     },
     "execution_count": 29,
     "metadata": {},
     "output_type": "execute_result"
    }
   ],
   "source": [
    "rf.varimp(use_pandas=True).head()"
   ]
  },
  {
   "cell_type": "code",
   "execution_count": 47,
   "metadata": {},
   "outputs": [
    {
     "data": {
      "image/png": "[encoded data removed]",
      "text/plain": [
       "<Figure size 1008x720 with 1 Axes>"
      ]
     },
     "metadata": {
      "needs_background": "light"
     },
     "output_type": "display_data"
    }
   ],
   "source": [
    "rf.varimp_plot(20)"
   ]
  },
  {
   "cell_type": "markdown",
   "metadata": {},
   "source": [
    "### Grid Search Random Forest"
   ]
  },
  {
   "cell_type": "code",
   "execution_count": 40,
   "metadata": {},
   "outputs": [
    {
     "name": "stdout",
     "output_type": "stream",
     "text": [
      "drf Grid Build progress: |████████████████████████████████████████████████| 100%\n"
     ]
    }
   ],
   "source": [
    "from h2o.grid.grid_search import H2OGridSearch\n",
    "from h2o.estimators import H2ORandomForestEstimator\n",
    "\n",
    "rf_params={'max_depth': [5,10],\n",
    "          'mtries':[5,10],\n",
    "          'min_rows':[1,2]}\n",
    "\n",
    "rf_grid = H2OGridSearch(model=H2ORandomForestEstimator,\n",
    "                          grid_id='rf_grid',\n",
    "                          hyper_params=rf_params)\n",
    "rf_grid.train(y='Revenue',\n",
    "                training_frame=train,\n",
    "                validation_frame=valid,\n",
    "                ntrees=15,\n",
    "                seed=123)"
   ]
  },
  {
   "cell_type": "code",
   "execution_count": 41,
   "metadata": {
    "collapsed": true
   },
   "outputs": [
    {
     "name": "stdout",
     "output_type": "stream",
     "text": [
      "     max_depth min_rows mtries          model_ids mean_per_class_error\n",
      "0           10      2.0     10  rf_grid4_model_28  0.15084180796598837\n",
      "1            6      1.0     17  rf_grid4_model_31  0.15454436582469236\n",
      "2            9      2.0     10  rf_grid4_model_27  0.15566960409576752\n",
      "3            6      1.0     10  rf_grid4_model_17  0.15598397221584615\n",
      "4            6      2.0     10  rf_grid4_model_24  0.15662518338140338\n",
      "5            9      1.0      5   rf_grid4_model_6  0.15665013323220328\n",
      "6            7      2.0     10  rf_grid4_model_25  0.15695202642688197\n",
      "7            6      2.0     17  rf_grid4_model_38  0.15727886947236056\n",
      "8            8      2.0     10  rf_grid4_model_26  0.15873095078891428\n",
      "9            7      1.0     10  rf_grid4_model_18  0.15904531890899293\n",
      "10           4      1.0     10  rf_grid4_model_15  0.16065458428558596\n",
      "11           4      2.0     10  rf_grid4_model_22  0.16065458428558596\n",
      "12           5      1.0      5   rf_grid4_model_2  0.16130827037654316\n",
      "13           5      1.0     17  rf_grid4_model_30  0.16162263849662178\n",
      "14           5      2.0     17  rf_grid4_model_37  0.16162263849662178\n",
      "15           9      2.0     17  rf_grid4_model_41  0.16244598357301823\n",
      "16           4      1.0     17  rf_grid4_model_29  0.16387311503877208\n",
      "17           4      2.0     17  rf_grid4_model_36  0.16387311503877208\n",
      "18           9      1.0     10  rf_grid4_model_20   0.1661360665063223\n",
      "19          10      2.0     17  rf_grid4_model_42   0.1672737797027974\n",
      "20           7      1.0     17  rf_grid4_model_32  0.16838654304847256\n",
      "21           7      2.0     17  rf_grid4_model_39  0.16887057015399048\n",
      "22           4      2.0      5   rf_grid4_model_8  0.16919741319946907\n",
      "23           4      1.0      5   rf_grid4_model_1  0.16919741319946907\n",
      "24          10      2.0      5  rf_grid4_model_14  0.16920988812486903\n",
      "25           5      1.0     10  rf_grid4_model_16  0.16966896537958703\n",
      "26           8      1.0      5   rf_grid4_model_5  0.16983862436502628\n",
      "27           5      2.0     10  rf_grid4_model_23  0.17015299248510496\n",
      "28           9      1.0     17  rf_grid4_model_34  0.17225875989261585\n",
      "29           8      2.0      5  rf_grid4_model_12  0.17258560293809444\n",
      "30          10      1.0      5   rf_grid4_model_7  0.17274278699813375\n",
      "31           6      2.0      5  rf_grid4_model_10  0.17321433917825171\n",
      "32           8      1.0     10  rf_grid4_model_19   0.1736983662837696\n",
      "33           9      2.0      5  rf_grid4_model_13  0.17371084120916958\n",
      "34           8      2.0     17  rf_grid4_model_40  0.17402520932924823\n",
      "35           6      1.0      5   rf_grid4_model_3  0.17418239338928754\n",
      "36           7      1.0      5   rf_grid4_model_4  0.17515044760032333\n",
      "37           5      2.0      5   rf_grid4_model_9  0.17933703256454528\n",
      "38           8      1.0     17  rf_grid4_model_33   0.1804622708356204\n",
      "39           7      2.0      5  rf_grid4_model_11   0.1814303250466562\n",
      "40          10      1.0     10  rf_grid4_model_21   0.1878673865530284\n",
      "41          10      1.0     17  rf_grid4_model_35  0.19253799862276824\n"
     ]
    },
    {
     "data": {
      "text/plain": []
     },
     "execution_count": 41,
     "metadata": {},
     "output_type": "execute_result"
    }
   ],
   "source": [
    "rf_grid.get_grid(sort_by='mean_per_class_error', decreasing=False)"
   ]
  },
  {
   "cell_type": "markdown",
   "metadata": {},
   "source": [
    "### Feature Contributions (SHAP Values)"
   ]
  },
  {
   "cell_type": "markdown",
   "metadata": {
    "heading_collapsed": true
   },
   "source": [
    "#### Function to get top shap values"
   ]
  },
  {
   "cell_type": "code",
   "execution_count": 50,
   "metadata": {
    "hidden": true
   },
   "outputs": [],
   "source": [
    "def get_contributions(data_for_pred, model, n_feats=3, pred_threshold=0.5):\n",
    "    \n",
    "    \"\"\"\n",
    "    \n",
    "    Function to calculate the top n features that are driving the prediction value. The function returns a dataframe with predictions, column names for top features, \n",
    "    column values for top features, and prediction contribution for top features.\n",
    "    \n",
    "    Parameters\n",
    "    ----------\n",
    "    data_for_pred : H2O dataframe to get predictions and contributions for\n",
    "\n",
    "    model : train H2O model.  Must be DRF or GBM\n",
    "    \n",
    "    n_feats : number of important features to return.  default=3.\n",
    "    \n",
    "    pred_threshold : Used to determine threshold for positive prediction explanations.  \n",
    "    If prediction score is less than the threshold, features with the least contribution amounts will be returned.\n",
    "    \n",
    "    \n",
    "    \"\"\"\n",
    "    \n",
    "    #ensure parameters are present\n",
    "   # if data_for_pred == None:\n",
    "   #     return \"missing prediction data\"\n",
    "   # elif model == None:\n",
    "   #     return \"missing model name\"\n",
    "    \n",
    "    #calculate predictions\n",
    "    predictions = model.predict(data_for_pred).as_data_frame(use_pandas=True)\n",
    "    pred_proba = predictions.iloc[:,1]\n",
    "    \n",
    "    #calculate Shap contribution values using H2O predict_contributions\n",
    "    contributions = model.predict_contributions(data_for_pred).as_data_frame(use_pandas=True)\n",
    "    \n",
    "    #drop BiasTerm to ensure it is not shown as a top feature to the user\n",
    "    contributions.drop('BiasTerm', axis=1, inplace=True)\n",
    "    \n",
    "    # get indices for top  and bottom contributions\n",
    "    bottom_contribution_indices = np.argsort(-contributions.values)[:,:n_feats]\n",
    "    top_contribution_indices = np.argsort(contributions.values)[:,:n_feats]\n",
    "    \n",
    "    #create new array with top or bottom contribution indices based on threshold\n",
    "    contribution_indices = bottom_contribution_indices.copy()\n",
    "        \n",
    "    # get the contribution value for the top features\n",
    "    bottom_contribution_values = -np.sort(-contributions.values)[:,:n_feats]\n",
    "    bottom_contribution_values = bottom_contribution_values.tolist()\n",
    "    top_contribution_values = np.sort(contributions.values)[:,:n_feats]\n",
    "    top_contribution_values = top_contribution_values.tolist()\n",
    "    \n",
    "    contribution_values = bottom_contribution_values  #changed this because I had it defaulting to top\n",
    "    \n",
    "    #loop through predictions and set values to top or bottom values based on threshold\n",
    "    #defaulting to bottom values since most predictions will be false\n",
    "    for i in range(len(pred_proba)):\n",
    "        if pred_proba[i] >= pred_threshold:\n",
    "            contribution_indices[i] = top_contribution_indices[i]\n",
    "            contribution_values[i] = top_contribution_values[i]\n",
    "    \n",
    "    # get all contribution column names\n",
    "    contribution_names = contributions.columns\n",
    "    \n",
    "    # get specific column names for contributions\n",
    "    key_contribution_names = contribution_names[contribution_indices].tolist()\n",
    "    \n",
    "    #create pandas dataframe with data for prediction.  Need pandas to use index slicing and extract feature info.\n",
    "    df = data_for_pred.as_data_frame(use_pandas=True)\n",
    "    \n",
    "    #get actual feature values from data_for_pred\n",
    "    contribution_column_value = df[contribution_names.tolist()].values\n",
    "    #identify values specifically for top features\n",
    "    \n",
    "    # get actual values for top features from prediction dataframe\n",
    "    column_values = []\n",
    "\n",
    "    for i in range(len(predictions)):    \n",
    "        column_values.append(contribution_column_value[i, contribution_indices[i]])\n",
    "    column_values = np.array(column_values).tolist()\n",
    "    \n",
    "    #combine feature information (column names, column values, and the contribution to the prediction)\n",
    "    contribution_list = list(zip(key_contribution_names, column_values, contribution_values))\n",
    "    \n",
    "    #####Create dataframe with feature importance information #####\n",
    "    \n",
    "    #use loop to name columns depending on the number of features requested.\n",
    "    feat_columns = []\n",
    "    actual_val_cols = []\n",
    "    contrib_amt_cols =[]\n",
    "    column_order = []\n",
    "\n",
    "    for count in range(3):  #this range is the number of feature explanations user requested\n",
    "        #create new columns for the top n features requested\n",
    "        feat_columns.append('feature_' + str(count))\n",
    "        actual_val_cols.append('feature_' + str(count) + '_value')\n",
    "        contrib_amt_cols.append('feature_' + str(count) + '_contrib_amt')\n",
    "\n",
    "        #update list of column names to be referenced in next loop\n",
    "        column_names = [feat_columns, actual_val_cols, contrib_amt_cols]\n",
    "\n",
    "        for i in range(3): #this count should always be three because there are three columns reported for each feature\n",
    "            #append column names in the order we want them to appear in the dataframe\n",
    "            column_order.append(column_names[i][count])\n",
    "\n",
    "    #define column names to be used in the dataframe.  These are not in order yet because they\n",
    "    #must match the data being put in the dataframe\n",
    "    columns = feat_columns + actual_val_cols + contrib_amt_cols\n",
    "\n",
    "    #create dataframe with features\n",
    "    pred_top_features_df = pd.DataFrame([[item for sublist in l for item in sublist] for l in contribution_list], columns = columns)\n",
    "\n",
    "    #reorder dataframe to the preferred order\n",
    "    pred_top_features_df = pred_top_features_df[column_order]\n",
    "\n",
    "    #merge prepedictions with top feature info\n",
    "    prediction_explanation_df = predictions.merge(pred_top_features_df, left_index=True, right_index=True)\n",
    "    \n",
    "    return(prediction_explanation_df)"
   ]
  },
  {
   "cell_type": "markdown",
   "metadata": {},
   "source": [
    "#### Top Reasons for Predictions"
   ]
  },
  {
   "cell_type": "markdown",
   "metadata": {},
   "source": [
    "**Raw SHAP Values**"
   ]
  },
  {
   "cell_type": "code",
   "execution_count": 58,
   "metadata": {},
   "outputs": [],
   "source": [
    "#rf.predict_contributions(test[24:25,:]).as_data_frame(use_pandas=True)"
   ]
  },
  {
   "cell_type": "markdown",
   "metadata": {},
   "source": [
    "**Use function to get top n SHAP values**"
   ]
  },
  {
   "cell_type": "code",
   "execution_count": 54,
   "metadata": {},
   "outputs": [
    {
     "name": "stdout",
     "output_type": "stream",
     "text": [
      "drf prediction progress: |████████████████████████████████████████████████| 100%\n"
     ]
    }
   ],
   "source": [
    "contributions = get_contributions(test[:100,:], rf, n_feats=3)"
   ]
  },
  {
   "cell_type": "code",
   "execution_count": 55,
   "metadata": {},
   "outputs": [
    {
     "data": {
      "text/html": [
       "<div>\n",
       "<style scoped>\n",
       "    .dataframe tbody tr th:only-of-type {\n",
       "        vertical-align: middle;\n",
       "    }\n",
       "\n",
       "    .dataframe tbody tr th {\n",
       "        vertical-align: top;\n",
       "    }\n",
       "\n",
       "    .dataframe thead th {\n",
       "        text-align: right;\n",
       "    }\n",
       "</style>\n",
       "<table border=\"1\" class=\"dataframe\">\n",
       "  <thead>\n",
       "    <tr style=\"text-align: right;\">\n",
       "      <th></th>\n",
       "      <th>predict</th>\n",
       "      <th>False</th>\n",
       "      <th>True</th>\n",
       "      <th>feature_0</th>\n",
       "      <th>feature_0_value</th>\n",
       "      <th>feature_0_contrib_amt</th>\n",
       "      <th>feature_1</th>\n",
       "      <th>feature_1_value</th>\n",
       "      <th>feature_1_contrib_amt</th>\n",
       "      <th>feature_2</th>\n",
       "      <th>feature_2_value</th>\n",
       "      <th>feature_2_contrib_amt</th>\n",
       "    </tr>\n",
       "  </thead>\n",
       "  <tbody>\n",
       "    <tr>\n",
       "      <th>24</th>\n",
       "      <td>True</td>\n",
       "      <td>0.270118</td>\n",
       "      <td>0.729882</td>\n",
       "      <td>PageValues</td>\n",
       "      <td>109.176</td>\n",
       "      <td>0.368710</td>\n",
       "      <td>ExitRates</td>\n",
       "      <td>0.00166667</td>\n",
       "      <td>0.088108</td>\n",
       "      <td>VisitorType</td>\n",
       "      <td>New_Visitor</td>\n",
       "      <td>0.076380</td>\n",
       "    </tr>\n",
       "    <tr>\n",
       "      <th>32</th>\n",
       "      <td>True</td>\n",
       "      <td>0.322853</td>\n",
       "      <td>0.677147</td>\n",
       "      <td>PageValues</td>\n",
       "      <td>51.4633</td>\n",
       "      <td>0.341587</td>\n",
       "      <td>ExitRates</td>\n",
       "      <td>0.00332986</td>\n",
       "      <td>0.096417</td>\n",
       "      <td>Administrative</td>\n",
       "      <td>0</td>\n",
       "      <td>0.081834</td>\n",
       "    </tr>\n",
       "    <tr>\n",
       "      <th>77</th>\n",
       "      <td>True</td>\n",
       "      <td>0.371875</td>\n",
       "      <td>0.628125</td>\n",
       "      <td>PageValues</td>\n",
       "      <td>45.4317</td>\n",
       "      <td>0.330482</td>\n",
       "      <td>Administrative</td>\n",
       "      <td>0</td>\n",
       "      <td>0.085870</td>\n",
       "      <td>ExitRates</td>\n",
       "      <td>0.0152273</td>\n",
       "      <td>0.077320</td>\n",
       "    </tr>\n",
       "  </tbody>\n",
       "</table>\n",
       "</div>"
      ],
      "text/plain": [
       "    predict     False      True   feature_0 feature_0_value  \\\n",
       "24     True  0.270118  0.729882  PageValues         109.176   \n",
       "32     True  0.322853  0.677147  PageValues         51.4633   \n",
       "77     True  0.371875  0.628125  PageValues         45.4317   \n",
       "\n",
       "    feature_0_contrib_amt       feature_1 feature_1_value  \\\n",
       "24               0.368710       ExitRates      0.00166667   \n",
       "32               0.341587       ExitRates      0.00332986   \n",
       "77               0.330482  Administrative               0   \n",
       "\n",
       "    feature_1_contrib_amt       feature_2 feature_2_value  \\\n",
       "24               0.088108     VisitorType     New_Visitor   \n",
       "32               0.096417  Administrative               0   \n",
       "77               0.085870       ExitRates       0.0152273   \n",
       "\n",
       "    feature_2_contrib_amt  \n",
       "24               0.076380  \n",
       "32               0.081834  \n",
       "77               0.077320  "
      ]
     },
     "execution_count": 55,
     "metadata": {},
     "output_type": "execute_result"
    }
   ],
   "source": [
    "contributions.sort_values(by='True', ascending=False).head(3)"
   ]
  },
  {
   "cell_type": "code",
   "execution_count": 57,
   "metadata": {},
   "outputs": [
    {
     "data": {
      "text/html": [
       "<div>\n",
       "<style scoped>\n",
       "    .dataframe tbody tr th:only-of-type {\n",
       "        vertical-align: middle;\n",
       "    }\n",
       "\n",
       "    .dataframe tbody tr th {\n",
       "        vertical-align: top;\n",
       "    }\n",
       "\n",
       "    .dataframe thead th {\n",
       "        text-align: right;\n",
       "    }\n",
       "</style>\n",
       "<table border=\"1\" class=\"dataframe\">\n",
       "  <thead>\n",
       "    <tr style=\"text-align: right;\">\n",
       "      <th></th>\n",
       "      <th>predict</th>\n",
       "      <th>False</th>\n",
       "      <th>True</th>\n",
       "      <th>feature_0</th>\n",
       "      <th>feature_0_value</th>\n",
       "      <th>feature_0_contrib_amt</th>\n",
       "      <th>feature_1</th>\n",
       "      <th>feature_1_value</th>\n",
       "      <th>feature_1_contrib_amt</th>\n",
       "      <th>feature_2</th>\n",
       "      <th>feature_2_value</th>\n",
       "      <th>feature_2_contrib_amt</th>\n",
       "    </tr>\n",
       "  </thead>\n",
       "  <tbody>\n",
       "    <tr>\n",
       "      <th>76</th>\n",
       "      <td>False</td>\n",
       "      <td>0.994723</td>\n",
       "      <td>0.005277</td>\n",
       "      <td>PageValues</td>\n",
       "      <td>0</td>\n",
       "      <td>-0.082613</td>\n",
       "      <td>Month</td>\n",
       "      <td>Mar</td>\n",
       "      <td>-0.028198</td>\n",
       "      <td>ExitRates</td>\n",
       "      <td>0.125</td>\n",
       "      <td>-0.009821</td>\n",
       "    </tr>\n",
       "    <tr>\n",
       "      <th>23</th>\n",
       "      <td>False</td>\n",
       "      <td>0.994723</td>\n",
       "      <td>0.005277</td>\n",
       "      <td>PageValues</td>\n",
       "      <td>0</td>\n",
       "      <td>-0.082879</td>\n",
       "      <td>Month</td>\n",
       "      <td>Mar</td>\n",
       "      <td>-0.028674</td>\n",
       "      <td>ExitRates</td>\n",
       "      <td>0.2</td>\n",
       "      <td>-0.010129</td>\n",
       "    </tr>\n",
       "    <tr>\n",
       "      <th>97</th>\n",
       "      <td>False</td>\n",
       "      <td>0.994723</td>\n",
       "      <td>0.005277</td>\n",
       "      <td>PageValues</td>\n",
       "      <td>0</td>\n",
       "      <td>-0.082612</td>\n",
       "      <td>Month</td>\n",
       "      <td>Mar</td>\n",
       "      <td>-0.027884</td>\n",
       "      <td>ExitRates</td>\n",
       "      <td>0.1</td>\n",
       "      <td>-0.012842</td>\n",
       "    </tr>\n",
       "  </tbody>\n",
       "</table>\n",
       "</div>"
      ],
      "text/plain": [
       "    predict     False      True   feature_0 feature_0_value  \\\n",
       "76    False  0.994723  0.005277  PageValues               0   \n",
       "23    False  0.994723  0.005277  PageValues               0   \n",
       "97    False  0.994723  0.005277  PageValues               0   \n",
       "\n",
       "    feature_0_contrib_amt feature_1 feature_1_value  feature_1_contrib_amt  \\\n",
       "76              -0.082613     Month             Mar              -0.028198   \n",
       "23              -0.082879     Month             Mar              -0.028674   \n",
       "97              -0.082612     Month             Mar              -0.027884   \n",
       "\n",
       "    feature_2 feature_2_value  feature_2_contrib_amt  \n",
       "76  ExitRates           0.125              -0.009821  \n",
       "23  ExitRates             0.2              -0.010129  \n",
       "97  ExitRates             0.1              -0.012842  "
      ]
     },
     "execution_count": 57,
     "metadata": {},
     "output_type": "execute_result"
    }
   ],
   "source": [
    "contributions.sort_values(by='True', ascending=True).head(3)"
   ]
  },
  {
   "cell_type": "markdown",
   "metadata": {},
   "source": [
    "## Save Model"
   ]
  },
  {
   "cell_type": "markdown",
   "metadata": {},
   "source": [
    "**H2O exports a MOJO or POJO Object.**  \n",
    "- MOJOs/POJO are Java objects that include all of the necessary model info, java classes, and environment variables needed to run the model in productions. \n",
    "- To create the same performance in SKLearn you would want to create a Pipeline object, store environment variables (i.e. verions of sci-kit-learn, python and other libraries), and create function to handle values the model has not seen before.  All of the information would need to be loaded on a server for the model to work with an API.\n",
    "- H2O also has a module called Sparkling Water that allows data scientists to use the H2O framework in Spark.  Users can save their model as a Spark Pipeline for later use in a Spark ETL job."
   ]
  },
  {
   "cell_type": "code",
   "execution_count": null,
   "metadata": {},
   "outputs": [],
   "source": [
    "#rf.save_mojo()"
   ]
  },
  {
   "cell_type": "markdown",
   "metadata": {},
   "source": [
    "## K-Means"
   ]
  },
  {
   "cell_type": "markdown",
   "metadata": {},
   "source": [
    "http://docs.h2o.ai/h2o/latest-stable/h2o-docs/data-science/k-means.html"
   ]
  },
  {
   "cell_type": "markdown",
   "metadata": {},
   "source": [
    "- estimate k option\n",
    "- standardization is enabled default\n",
    "- categorical encoding is enum/factor by default, this can be changed to one-hot if needed.\n",
    "- automatically tracks key metrics, total sum of squares, within sum of squares, between sum of squares\n",
    "- Centroid statistics (centroid number, size, within cluster sum of squares)"
   ]
  },
  {
   "cell_type": "code",
   "execution_count": null,
   "metadata": {},
   "outputs": [],
   "source": [
    "#import data for example\n",
    "diamonds = 'C:/Users/DT225877/Downloads/diamonds.csv'\n",
    "clust_df = h2o.import_file(diamonds)"
   ]
  },
  {
   "cell_type": "code",
   "execution_count": null,
   "metadata": {},
   "outputs": [],
   "source": [
    "kmeans = h2o.estimators.H2OKMeansEstimator(estimate_k=True, k=10, seed = 123)\n",
    "kmeans.train(training_frame=clust_df)\n",
    "kmeans.model_performance()"
   ]
  },
  {
   "cell_type": "code",
   "execution_count": null,
   "metadata": {},
   "outputs": [],
   "source": [
    "kmeans.scoring_history().plot()"
   ]
  },
  {
   "cell_type": "code",
   "execution_count": null,
   "metadata": {},
   "outputs": [],
   "source": [
    "clust_df['cluster']= kmeans.predict(clust_df)"
   ]
  },
  {
   "cell_type": "code",
   "execution_count": null,
   "metadata": {},
   "outputs": [],
   "source": [
    "clust_df"
   ]
  },
  {
   "cell_type": "markdown",
   "metadata": {},
   "source": [
    "## H2O Flow"
   ]
  },
  {
   "cell_type": "markdown",
   "metadata": {},
   "source": [
    "http://localhost:54321"
   ]
  }
 ],
 "metadata": {
  "kernelspec": {
   "display_name": "Python 3",
   "language": "python",
   "name": "python3"
  },
  "language_info": {
   "codemirror_mode": {
    "name": "ipython",
    "version": 3
   },
   "file_extension": ".py",
   "mimetype": "text/x-python",
   "name": "python",
   "nbconvert_exporter": "python",
   "pygments_lexer": "ipython3",
   "version": "3.7.3"
  }
 },
 "nbformat": 4,
 "nbformat_minor": 2
}
